{
 "cells": [
  {
   "cell_type": "code",
   "execution_count": 1,
   "metadata": {},
   "outputs": [
    {
     "name": "stdout",
     "output_type": "stream",
     "text": [
      "Populating the interactive namespace from numpy and matplotlib\n"
     ]
    }
   ],
   "source": [
    "%pylab inline"
   ]
  },
  {
   "cell_type": "markdown",
   "metadata": {},
   "source": [
    "# Método de Shooting Oscilador Armónico Cuántico\n",
    "\n",
    "\n",
    "El código desarrollado puede ser utilizado y editado en la hoja de Google Colab en el siguiente link\n",
    "\n",
    "<br>\n",
    "\n",
    "<a href=\"https://colab.research.google.com/github/lauramscs/Metodos-numericos/blob/main/Shooting_Oscilador_Armonico.ipynb\">\n",
    "  <img src=\"https://colab.research.google.com/assets/colab-badge.svg\" alt=\"Open In Colab\"/>\n",
    "</a>\n",
    "\n",
    "El potencial asociado al Oscilador Armónico Cuántico es $V=\\frac{1}{2}m \\omega^2 z^² $. Al sustituirlo en la ecuación de Schrödinger independiente del tiempo obtenemos\n",
    "$$\\frac{\\hbar}{2m}\\frac{d^2\\psi(z)}{dz^2}+\\frac{1}{2}m\\omega^2z^2 \\psi(z)=E\\psi(z)$$\n",
    "\n",
    "Podemos reescribir \n",
    "$$x=\\sqrt{\\frac{m\\omega}{\\hbar}}z$$\n",
    "$$K=\\frac{2E}{\\hbar\\omega}$$\n",
    "Y obtenemos \n",
    "$$\\frac{d^2\\psi(x)}{dx^2}=(x^2-K)\\psi(x)$$\n",
    "\n",
    "Para resolver esta ecuación diferencial por el método de Shooting haremos uso del método de Runge-Kutta de 4to orden y del método Newton-Raphson analizados previamente."
   ]
  },
  {
   "cell_type": "code",
   "execution_count": 2,
   "metadata": {},
   "outputs": [],
   "source": [
    "def rk4(t0, tf, x0, f, h):\n",
    "\n",
    "    t = linspace(t0,tf,round(abs(t0-tf)/h)+1)  \n",
    "    x = zeros((size(t), size(x0)))\n",
    "    x[0] = x0\n",
    "    \n",
    "    for (n, tn) in enumerate(t[:-1]):        \n",
    "        k1 = f(tn, x[n])\n",
    "        k2 = f(tn + h/2, x[n] + h*k1/2)\n",
    "        k3 = f(tn + h/2, x[n] + h*k2/2)\n",
    "        k4 = f(tn + h, x[n] + h*k3)     \n",
    "        x[n+1] = x[n] + h*(k1 + 2*k2 + 2*k3 + k4)/6    \n",
    "    return t, x\n",
    "#Funciona unicamente integrando de izquierda a derecha "
   ]
  },
  {
   "cell_type": "code",
   "execution_count": 3,
   "metadata": {},
   "outputs": [],
   "source": [
    "def OA(x,v): #Definimos la función OA que depende de x y de v el arreglo que guarda phi y su derivada$\n",
    "    l = zeros(2)\n",
    "    l[0]=v[1]\n",
    "    l[1]=(x**2-K)*v[0]\n",
    "    return l\n",
    "#Nos regresa un arreglo con la primer y segunda derivada de phi"
   ]
  },
  {
   "cell_type": "code",
   "execution_count": 4,
   "metadata": {},
   "outputs": [],
   "source": [
    "#Fijamos x1 y el tamaño del paso, así como  la derivada de phi en x1\n",
    "x1 = -5.0\n",
    "h = 1e-3\n",
    "phi0 = 0.1  #ESTE VALOR NO IMPORTA\n",
    "K=3\n",
    "\n",
    "dphi0 = - 2*x1 * phi0  "
   ]
  },
  {
   "cell_type": "code",
   "execution_count": 5,
   "metadata": {},
   "outputs": [],
   "source": [
    "x, v =rk4(x1, -x1, array([phi0,dphi0]) ,OA, h)"
   ]
  },
  {
   "cell_type": "code",
   "execution_count": 6,
   "metadata": {},
   "outputs": [
    {
     "data": {
      "image/png": "[encoded data removed]",
      "text/plain": [
       "<Figure size 1164.96x720 with 1 Axes>"
      ]
     },
     "metadata": {
      "needs_background": "light"
     },
     "output_type": "display_data"
    }
   ],
   "source": [
    "fig, ax = subplots(figsize = (16.18,10))\n",
    "ax.set_title(\" $b = 0.5$\")\n",
    "ax.set_xlabel(r\"$x(t)$\")\n",
    "ax.set_ylabel(r\"$y(t)$\")\n",
    "ax.scatter(x, v.T[0])\n",
    "plt.show()"
   ]
  },
  {
   "cell_type": "code",
   "execution_count": 7,
   "metadata": {},
   "outputs": [],
   "source": [
    "def NR(f,x0,tol,dV): #Definimos el Newton-Raphson en una sola dimensión\n",
    "    x = x0\n",
    "    err = abs(f(x))\n",
    "    while err>tol:\n",
    "        df = (f(x+dV)-f(x))/dV\n",
    "        x = x -f(x)/df\n",
    "        err = abs(f(x))\n",
    "    return x    "
   ]
  },
  {
   "cell_type": "code",
   "execution_count": 8,
   "metadata": {},
   "outputs": [],
   "source": [
    "#Fijamos las condiciones. X1 será el punto de inicio\n",
    "X1= -5.0\n",
    "X2= -X1\n",
    "dT=1e-3\n",
    "phi0 = 0.1  \n",
    "dphi0 = -2*X1*phi0\n",
    "Kseed= 2. #Damos una semilla para K"
   ]
  },
  {
   "cell_type": "code",
   "execution_count": 9,
   "metadata": {},
   "outputs": [],
   "source": [
    "#Definimos la funcione func la cual regresa la diferencia entre el último valor \n",
    "#de phi obtenido en el Runge-kutta y phi0 fijados anteriormente\n",
    "def func(Koo):\n",
    "    global K\n",
    "    K=Koo\n",
    "    tt, vv =rk4(X1, X2, array([phi0,dphi0]) ,OA, dT)\n",
    "    diff = abs(vv[-1,0])-abs(phi0)\n",
    "    return diff"
   ]
  },
  {
   "cell_type": "code",
   "execution_count": 10,
   "metadata": {},
   "outputs": [
    {
     "data": {
      "text/plain": [
       "3"
      ]
     },
     "execution_count": 10,
     "metadata": {},
     "output_type": "execute_result"
    }
   ],
   "source": [
    "K"
   ]
  },
  {
   "cell_type": "code",
   "execution_count": 11,
   "metadata": {},
   "outputs": [
    {
     "data": {
      "text/plain": [
       "161988403.9857132"
      ]
     },
     "execution_count": 11,
     "metadata": {},
     "output_type": "execute_result"
    }
   ],
   "source": [
    "func(Kseed)"
   ]
  },
  {
   "cell_type": "code",
   "execution_count": 12,
   "metadata": {},
   "outputs": [
    {
     "data": {
      "text/plain": [
       "3.000000007343325"
      ]
     },
     "execution_count": 12,
     "metadata": {},
     "output_type": "execute_result"
    }
   ],
   "source": [
    "#La solución nos dará un valor para K tal que func se vaya a cero\n",
    "Sol=NR(func,Kseed,1e-5,1e-6)\n",
    "Sol"
   ]
  },
  {
   "cell_type": "code",
   "execution_count": 13,
   "metadata": {},
   "outputs": [
    {
     "data": {
      "text/plain": [
       "-2.3468694737571738e-08"
      ]
     },
     "execution_count": 13,
     "metadata": {},
     "output_type": "execute_result"
    }
   ],
   "source": [
    "func(Sol) #Evaluamos func en el valor obtenido y vemos que el valor se va a cero"
   ]
  }
 ],
 "metadata": {
  "kernelspec": {
   "display_name": "Python 3",
   "language": "python",
   "name": "python3"
  },
  "language_info": {
   "codemirror_mode": {
    "name": "ipython",
    "version": 3
   },
   "file_extension": ".py",
   "mimetype": "text/x-python",
   "name": "python",
   "nbconvert_exporter": "python",
   "pygments_lexer": "ipython3",
   "version": "3.8.3"
  }
 },
 "nbformat": 4,
 "nbformat_minor": 4
}
