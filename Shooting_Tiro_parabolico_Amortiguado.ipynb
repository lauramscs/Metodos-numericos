{
 "cells": [
  {
   "cell_type": "code",
   "execution_count": 1,
   "metadata": {},
   "outputs": [
    {
     "name": "stdout",
     "output_type": "stream",
     "text": [
      "Populating the interactive namespace from numpy and matplotlib\n"
     ]
    }
   ],
   "source": [
    "%pylab inline"
   ]
  },
  {
   "cell_type": "markdown",
   "metadata": {},
   "source": [
    "# Método de Shooting Tiro parabólico amortiguado\n",
    "\n",
    "\n",
    "El código desarrollado puede ser utilizado y editado en la hoja de Google Colab en el siguiente link\n",
    "\n",
    "<br>\n",
    "\n",
    "<a href=\"https://colab.research.google.com/github/lauramscs/Metodos-numericos/blob/main/Shooting_Tiro_parabolico_Amortiguado.ipynb\">\n",
    "  <img src=\"https://colab.research.google.com/assets/colab-badge.svg\" alt=\"Open In Colab\"/>\n",
    "</a>\n",
    "\n",
    "\n",
    "Vamos a partir implementando el RK4 construido anteriormente para obtener la trayectoria de una partícula dadas las condiciones iniciales $x_0$, $y_0$, $vx_0$ y $vy_0$"
   ]
  },
  {
   "cell_type": "code",
   "execution_count": 2,
   "metadata": {},
   "outputs": [],
   "source": [
    "def rk4(t0, tf, x0, f, h):\n",
    "    t = arange(t0,tf+h,h)\n",
    "    x = zeros((size(t), size(x0)))\n",
    "    x[0] = x0\n",
    "    \n",
    "    for (n, tn) in enumerate(t[:-1]):        \n",
    "        k1 = f(tn, x[n])\n",
    "        k2 = f(tn + h/2, x[n] + h*k1/2)\n",
    "        k3 = f(tn + h/2, x[n] + h*k2/2)\n",
    "        k4 = f(tn + h, x[n] + h*k3)     \n",
    "        x[n+1] = x[n] + h*(k1 + 2*k2 + 2*k3 + k4)/6    \n",
    "    return t, x"
   ]
  },
  {
   "cell_type": "markdown",
   "metadata": {},
   "source": [
    "Este problema no tiene solución analítica (https://core.ac.uk/download/pdf/82261706.pdf)\n",
    "\n",
    "$$\\mathbf{F}=-\\mathbf{g}-b^*v^2\\hat{\\mathbf{v}}$$\n",
    "\n",
    "Consiste en el problema de un par de ecuaciones diferenciales ordinarias de segundo orden y acopladas:\n",
    "\n",
    "$$m\\frac{d^2x}{dt^2}=-b^* v_x\\sqrt{v_x^2+v_y^2}$$\n",
    "$$m\\frac{d^2y}{dt^2}=-mg-b^* v_y\\sqrt{v_x^2+v_y^2}$$\n",
    "\n",
    "$$b = b^*/m$$"
   ]
  },
  {
   "cell_type": "code",
   "execution_count": 3,
   "metadata": {},
   "outputs": [],
   "source": [
    "def para (t, v):\n",
    "     #Definimos la funcion para que depende del tiempo t y v el arreglo que guarda a los parámetros x, y,vx y vy\n",
    "    l = zeros_like(v)\n",
    "    l[0] = v[2]\n",
    "    l[1] = v[3]\n",
    "    l[2] = -b*v[2]* sqrt(v[2]**2 +v[3]**2)\n",
    "    l[3] = -g -b*v[3] *sqrt(v[2]**2 +v[3]**2)\n",
    "    return l\n",
    "#nos regresa un arreglo con entradas $x', y', x'', ''$"
   ]
  },
  {
   "cell_type": "code",
   "execution_count": 4,
   "metadata": {},
   "outputs": [],
   "source": [
    "g= 9.8\n",
    "b=0.5\n",
    "#fijamos las constantes g y b"
   ]
  },
  {
   "cell_type": "code",
   "execution_count": 5,
   "metadata": {},
   "outputs": [],
   "source": [
    "t, v =rk4(0.0, 1, array([0,0,10,10]) ,para, 1e-2)\n",
    "#aplicamos rk4 a para de t0=0.1 a tf=1 con la condición inicial v0=(x0=0, y0=0, vx0=10, vy0=10) y un paso h=1e-2"
   ]
  },
  {
   "cell_type": "code",
   "execution_count": 6,
   "metadata": {},
   "outputs": [
    {
     "data": {
      "image/png": "[encoded data removed]",
      "text/plain": [
       "<Figure size 1164.96x720 with 1 Axes>"
      ]
     },
     "metadata": {
      "needs_background": "light"
     },
     "output_type": "display_data"
    }
   ],
   "source": [
    "fig, ax = subplots(figsize = (16.18,10))\n",
    "ax.set_title(\" $b = 0.5$\")\n",
    "ax.set_xlabel(r\"$x(t)$\")\n",
    "ax.set_ylabel(r\"$y(t)$\")\n",
    "ax.scatter(v.T[0], v.T[1])\n",
    "plt.show()"
   ]
  },
  {
   "cell_type": "markdown",
   "metadata": {},
   "source": [
    "## Método de Shooting"
   ]
  },
  {
   "cell_type": "markdown",
   "metadata": {},
   "source": [
    "Iniciamos haciendo el código para el Newton-Raphson"
   ]
  },
  {
   "cell_type": "code",
   "execution_count": 7,
   "metadata": {},
   "outputs": [],
   "source": [
    "def NR(f,g,x0,y0,dV,tolf): #Tenemos un sistema de 2x2. \n",
    "    #El Newton Raphson depende de las dos funciones,el valor incial de las variables, dV y la tolerancia \n",
    "    J=zeros((2,2)) #El Jacobiano será una matriz de 2x2\n",
    "    x,y=x0,y0\n",
    "    errf=abs(f(x,y))+abs(g(x,y))\n",
    "    #Defonimos como el error al valor absoluto de las funciones f y g evaluadas en el mismo punto (x,y)\n",
    "    while errf>tolf:   #El ciclo seguirá siempre que el error sea mayor a la tolerancia\n",
    "        J[0,0]=(f(x+dV,y)-f(x,y))/dV    #Se obtienen uno a uno los términos del Jacobiano\n",
    "        J[0,1]=(f(x,y+dV)-f(x,y))/dV\n",
    "        J[1,0]=(g(x+dV,y)-g(x,y))/dV\n",
    "        J[1,1]=(g(x,y+dV)-g(x,y))/dV\n",
    "        Jinv=inv(J)\n",
    "        deltax=-Jinv[0,0]*f(x,y)-Jinv[0,1]*g(x,y)\n",
    "        deltay=-Jinv[1,0]*f(x,y)-Jinv[1,1]*g(x,y)\n",
    "        x=x+deltax\n",
    "        y=y+deltay\n",
    "        #Obtuvimos los nuevos puntos x, y en los que se evaluarán las funciones f y g\n",
    "        errf=abs(f(x,y))+abs(g(x,y))\n",
    "    return x,y  #Nos regresa los puntos x, y en los que la diferencia de las funciones es menor a la tolerancia"
   ]
  },
  {
   "cell_type": "code",
   "execution_count": 8,
   "metadata": {},
   "outputs": [],
   "source": [
    "T0=0    #FIJA SISTEMA DE COORDENADAS\n",
    "X0=0\n",
    "Y0=0\n",
    "\n",
    "TF=1.0   \n",
    "\n",
    "dT=1e-3    \n",
    "\n",
    "XF=10   #Puntos xf, yf para los cales queremos obtener vx0, vy0 partiendo de x0, y0, to fijados arriba\n",
    "YF=0\n"
   ]
  },
  {
   "cell_type": "code",
   "execution_count": 9,
   "metadata": {},
   "outputs": [],
   "source": [
    "#Definimos dos funciones func y gunc. Las cuales regresan la diferencia entre el último valor \n",
    "#de x,y obtenidos en el Runge-kutta y xf, yf fijados anteriormente\n",
    "\n",
    "def func(VX0,VY0):\n",
    "    tt, vv =rk4(T0, TF, array([X0,Y0,VX0,VY0]) ,para, dT)\n",
    "    diffx = vv[-1,0]-XF \n",
    "    return diffx\n",
    "\n",
    "def gunc(VX0,VY0):\n",
    "    tt, vv =rk4(T0, TF, array([X0,Y0,VX0,VY0]) ,para, dT) \n",
    "    diffy = vv[-1,1]-YF\n",
    "    return diffy"
   ]
  },
  {
   "cell_type": "code",
   "execution_count": 10,
   "metadata": {},
   "outputs": [],
   "source": [
    "VXseed=10\n",
    "VYseed=10\n",
    "#Damos una semilla para VX y VY"
   ]
  },
  {
   "cell_type": "code",
   "execution_count": 11,
   "metadata": {},
   "outputs": [
    {
     "data": {
      "text/plain": [
       "-6.850740272970777"
      ]
     },
     "execution_count": 11,
     "metadata": {},
     "output_type": "execute_result"
    }
   ],
   "source": [
    "func(VXseed,VYseed)\n"
   ]
  },
  {
   "cell_type": "code",
   "execution_count": 12,
   "metadata": {},
   "outputs": [
    {
     "data": {
      "text/plain": [
       "0.19919782194231447"
      ]
     },
     "execution_count": 12,
     "metadata": {},
     "output_type": "execute_result"
    }
   ],
   "source": [
    "gunc(VXseed,VYseed)"
   ]
  },
  {
   "cell_type": "code",
   "execution_count": 13,
   "metadata": {},
   "outputs": [
    {
     "data": {
      "text/plain": [
       "(340.4845558467298, 79.35704330364403)"
      ]
     },
     "execution_count": 13,
     "metadata": {},
     "output_type": "execute_result"
    }
   ],
   "source": [
    "#La solución nos dará un valor para V0X y V0Y  tales que func y gunc se vayan a cero\n",
    "Sol = NR(func,gunc,VXseed,VYseed,1e-4,1e-6)\n",
    "Sol"
   ]
  },
  {
   "cell_type": "markdown",
   "metadata": {},
   "source": [
    "Para comprobar la solución obtenida aplicamos RK4 al tiro parabólico con nuestras conciciones iniciales y sustituimos las velocidades inciales obtenidas con el Newton-Raphson"
   ]
  },
  {
   "cell_type": "code",
   "execution_count": 14,
   "metadata": {},
   "outputs": [],
   "source": [
    "t, v =rk4(0.0, 1, array([0,0,340.4845558467298,79.35704330364403]) ,para, 1e-3)"
   ]
  },
  {
   "cell_type": "code",
   "execution_count": 15,
   "metadata": {},
   "outputs": [
    {
     "data": {
      "image/png": "[encoded data removed]",
      "text/plain": [
       "<Figure size 1164.96x720 with 1 Axes>"
      ]
     },
     "metadata": {
      "needs_background": "light"
     },
     "output_type": "display_data"
    }
   ],
   "source": [
    "fig, ax = subplots(figsize = (16.18,10))\n",
    "ax.set_title(\" $b = 0.5$\")\n",
    "ax.set_xlabel(r\"$x(t)$\")\n",
    "ax.set_ylabel(r\"$y(t)$\")\n",
    "ax.scatter(v.T[0], v.T[1])\n",
    "plt.show()"
   ]
  },
  {
   "cell_type": "markdown",
   "metadata": {},
   "source": [
    "Observamos que efectivamente, con esas velocidades inicales la partícula llega a (x,y)=(10,0)"
   ]
  },
  {
   "cell_type": "code",
   "execution_count": null,
   "metadata": {},
   "outputs": [],
   "source": []
  }
 ],
 "metadata": {
  "kernelspec": {
   "display_name": "Python 3",
   "language": "python",
   "name": "python3"
  },
  "language_info": {
   "codemirror_mode": {
    "name": "ipython",
    "version": 3
   },
   "file_extension": ".py",
   "mimetype": "text/x-python",
   "name": "python",
   "nbconvert_exporter": "python",
   "pygments_lexer": "ipython3",
   "version": "3.8.3"
  }
 },
 "nbformat": 4,
 "nbformat_minor": 4
}
